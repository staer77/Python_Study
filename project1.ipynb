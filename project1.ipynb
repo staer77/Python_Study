{
 "cells": [
  {
   "cell_type": "code",
   "execution_count": 4,
   "outputs": [
    {
     "name": "stdout",
     "output_type": "stream",
     "text": [
      "hello world\n"
     ]
    }
   ],
   "source": [
    "print('hello world')"
   ],
   "metadata": {
    "collapsed": false,
    "pycharm": {
     "name": "#%%\n"
    }
   }
  },
  {
   "cell_type": "code",
   "execution_count": 9,
   "outputs": [
    {
     "name": "stdout",
     "output_type": "stream",
     "text": [
      "30\n",
      "<class 'float'>\n"
     ]
    }
   ],
   "source": [
    "a = 10\n",
    "b = 20\n",
    "c = a+b\n",
    "print(c)\n",
    "\n",
    "print(type(10.2))"
   ],
   "metadata": {
    "collapsed": false,
    "pycharm": {
     "name": "#%%\n"
    }
   }
  },
  {
   "cell_type": "code",
   "execution_count": 6,
   "outputs": [
    {
     "name": "stdout",
     "output_type": "stream",
     "text": [
      "김두식\n"
     ]
    }
   ],
   "source": [
    "person_name = input('당신의 이름을 알려주세요')\n",
    "print(person_name)"
   ],
   "metadata": {
    "collapsed": false,
    "pycharm": {
     "name": "#%%\n"
    }
   }
  },
  {
   "cell_type": "code",
   "execution_count": 10,
   "outputs": [
    {
     "name": "stdout",
     "output_type": "stream",
     "text": [
      "원의 면적:  314.0\n"
     ]
    }
   ],
   "source": [
    "PI = 3.14\n",
    "radius = 10\n",
    "area = PI * radius * radius\n",
    "print('원의 면적: ', area)"
   ],
   "metadata": {
    "collapsed": false,
    "pycharm": {
     "name": "#%%\n"
    }
   }
  },
  {
   "cell_type": "code",
   "execution_count": 15,
   "outputs": [
    {
     "name": "stdout",
     "output_type": "stream",
     "text": [
      "결과:  0.042279722645019446\n"
     ]
    }
   ],
   "source": [
    "speed = 300000\n",
    "distance = 400000000000\n",
    "sec = distance / speed\n",
    "lightyear = sec/(60.0*60.0*24.0*365.0)\n",
    "print('결과: ', lightyear)"
   ],
   "metadata": {
    "collapsed": false,
    "pycharm": {
     "name": "#%%\n"
    }
   }
  },
  {
   "cell_type": "code",
   "execution_count": 20,
   "outputs": [
    {
     "name": "stdout",
     "output_type": "stream",
     "text": [
      "두 숫자를 더한 값은:  11\n",
      "두 숫자를 뺀 값은:  3\n",
      "두 숫자를 곱한 값은:  28\n",
      "두 숫자를 나눈 값은:  1.75\n",
      "두 숫자를 나머지 값은:  3\n"
     ]
    }
   ],
   "source": [
    "num1 = int(input('첫번째 수를 입력하세요: '))\n",
    "num2 = int(input('두번째 수를 입력하세요: '))\n",
    "\n",
    "print('두 숫자를 더한 값은: ', num1+num2)\n",
    "print('두 숫자를 뺀 값은: ', num1-num2)\n",
    "print('두 숫자를 곱한 값은: ', num1*num2)\n",
    "print('두 숫자를 나눈 값은: ', num1/num2)\n",
    "print('두 숫자를 나머지 값은: ', num1%num2)"
   ],
   "metadata": {
    "collapsed": false,
    "pycharm": {
     "name": "#%%\n"
    }
   }
  },
  {
   "cell_type": "code",
   "execution_count": 23,
   "outputs": [
    {
     "name": "stdout",
     "output_type": "stream",
     "text": [
      "123hello\n"
     ]
    }
   ],
   "source": [
    "# 같은 형끼리만 더해짐\n",
    "'hello' + 'hello'\n",
    "msg = 'hello'\n",
    "print(type(msg))\n",
    "print(type(123))"
   ],
   "metadata": {
    "collapsed": false,
    "pycharm": {
     "name": "#%%\n"
    }
   }
  },
  {
   "cell_type": "code",
   "execution_count": 26,
   "outputs": [
    {
     "name": "stdout",
     "output_type": "stream",
     "text": [
      "h\n",
      "123123\n",
      "246\n"
     ]
    }
   ],
   "source": [
    "a = 'hello world'\n",
    "print(a[0])\n",
    "print('123'+ '123')\n",
    "print(123+123)"
   ],
   "metadata": {
    "collapsed": false,
    "pycharm": {
     "name": "#%%\n"
    }
   }
  },
  {
   "cell_type": "code",
   "execution_count": 31,
   "outputs": [
    {
     "ename": "NameError",
     "evalue": "name '입력금액' is not defined",
     "output_type": "error",
     "traceback": [
      "\u001B[1;31m---------------------------------------------------------------------------\u001B[0m",
      "\u001B[1;31mNameError\u001B[0m                                 Traceback (most recent call last)",
      "\u001B[1;32m~\\AppData\\Local\\Temp/ipykernel_3208/2800585317.py\u001B[0m in \u001B[0;36m<module>\u001B[1;34m\u001B[0m\n\u001B[0;32m      1\u001B[0m \u001B[0mitemPrice\u001B[0m \u001B[1;33m=\u001B[0m \u001B[0mint\u001B[0m\u001B[1;33m(\u001B[0m\u001B[0minput\u001B[0m\u001B[1;33m(\u001B[0m\u001B[1;34m'물건값을 입력하세요: '\u001B[0m\u001B[1;33m)\u001B[0m\u001B[1;33m)\u001B[0m\u001B[1;33m\u001B[0m\u001B[1;33m\u001B[0m\u001B[0m\n\u001B[1;32m----> 2\u001B[1;33m \u001B[0mprint\u001B[0m\u001B[1;33m(\u001B[0m\u001B[1;34m'='\u001B[0m\u001B[1;33m*\u001B[0m\u001B[1;36m6\u001B[0m\u001B[1;33m*\u001B[0m\u001B[0mstr\u001B[0m\u001B[1;33m(\u001B[0m\u001B[0m입력금액\u001B[0m\u001B[1;33m)\u001B[0m\u001B[1;33m+\u001B[0m\u001B[1;34m'='\u001B[0m\u001B[1;33m*\u001B[0m\u001B[1;36m6\u001B[0m\u001B[1;33m)\u001B[0m\u001B[1;33m\u001B[0m\u001B[1;33m\u001B[0m\u001B[0m\n\u001B[0m\u001B[0;32m      3\u001B[0m \u001B[0mnote\u001B[0m \u001B[1;33m=\u001B[0m \u001B[0mint\u001B[0m\u001B[1;33m(\u001B[0m\u001B[0minput\u001B[0m\u001B[1;33m(\u001B[0m\u001B[1;34m'1000원의 지폐갯수: '\u001B[0m\u001B[1;33m)\u001B[0m\u001B[1;33m)\u001B[0m\u001B[1;33m\u001B[0m\u001B[1;33m\u001B[0m\u001B[0m\n\u001B[0;32m      4\u001B[0m \u001B[0mcoin500\u001B[0m \u001B[1;33m=\u001B[0m \u001B[0mint\u001B[0m\u001B[1;33m(\u001B[0m\u001B[0minput\u001B[0m\u001B[1;33m(\u001B[0m\u001B[1;34m'500원 동전갯수: '\u001B[0m\u001B[1;33m)\u001B[0m\u001B[1;33m)\u001B[0m\u001B[1;33m\u001B[0m\u001B[1;33m\u001B[0m\u001B[0m\n\u001B[0;32m      5\u001B[0m \u001B[0mcoin100\u001B[0m \u001B[1;33m=\u001B[0m \u001B[0mint\u001B[0m\u001B[1;33m(\u001B[0m\u001B[0minput\u001B[0m\u001B[1;33m(\u001B[0m\u001B[1;34m'100원의 동전갯수: '\u001B[0m\u001B[1;33m)\u001B[0m\u001B[1;33m)\u001B[0m\u001B[1;33m\u001B[0m\u001B[1;33m\u001B[0m\u001B[0m\n",
      "\u001B[1;31mNameError\u001B[0m: name '입력금액' is not defined"
     ]
    }
   ],
   "source": [
    "itemPrice = int(input('물건값을 입력하세요: '))\n",
    "print('='*6*'입력금액'+'='*6)\n",
    "note = int(input('1000원의 지폐갯수: '))\n",
    "coin500 = int(input('500원 동전갯수: '))\n",
    "coin100 = int(input('100원의 동전갯수: '))\n",
    "\n",
    "change = note * 1000 + coin500*500 + coin100 * 100 - itemPrice\n",
    "\n",
    "nCoin500 = change//500\n",
    "change = change%500\n",
    "\n",
    "nCoin500 = change//100\n",
    "change = change%100\n",
    "\n",
    "nCoin500 = change//10\n",
    "change = change%10\n",
    "\n",
    "nCoin1 = change\n",
    "\n",
    "print('----거스름돈 출력----')\n",
    "print('500원=',nCoin500,'100원=',nCoin100,'10원=',nCoin10,'1원=',nCoin1)\n"
   ],
   "metadata": {
    "collapsed": false,
    "pycharm": {
     "name": "#%%\n"
    }
   }
  },
  {
   "cell_type": "code",
   "execution_count": 34,
   "outputs": [
    {
     "name": "stdout",
     "output_type": "stream",
     "text": [
      "\n",
      "==============================\n",
      "서울 입니다\n",
      "서울 입니다\n",
      "대구 입니다\n",
      "김두식 입니다\n",
      "1대0 입니다\n",
      "==============================\n"
     ]
    }
   ],
   "source": [
    "stadium = input('경기장은 어디입니까')\n",
    "winner = input('이긴팀은 어디입니까')\n",
    "looser = input('진팀은 어디입니까')\n",
    "MVP = input('우수선수는 누구입니까')\n",
    "score = input('스코어는 몇대몇입니까')\n",
    "\n",
    "print(\"\")\n",
    "print('='*30)\n",
    "\n",
    "print(stadium,'입니다')\n",
    "print(winner,'입니다')\n",
    "print(looser,'입니다')\n",
    "print(MVP,'입니다')\n",
    "print(score,'입니다')\n",
    "print('='*30)"
   ],
   "metadata": {
    "collapsed": false,
    "pycharm": {
     "name": "#%%\n"
    }
   }
  },
  {
   "cell_type": "code",
   "execution_count": null,
   "outputs": [],
   "source": [],
   "metadata": {
    "collapsed": false,
    "pycharm": {
     "name": "#%%\n"
    }
   }
  },
  {
   "cell_type": "code",
   "execution_count": null,
   "outputs": [],
   "source": [],
   "metadata": {
    "collapsed": false,
    "pycharm": {
     "name": "#%%\n"
    }
   }
  },
  {
   "cell_type": "code",
   "execution_count": null,
   "outputs": [],
   "source": [],
   "metadata": {
    "collapsed": false,
    "pycharm": {
     "name": "#%%\n"
    }
   }
  },
  {
   "cell_type": "code",
   "execution_count": null,
   "outputs": [],
   "source": [],
   "metadata": {
    "collapsed": false,
    "pycharm": {
     "name": "#%%\n"
    }
   }
  },
  {
   "cell_type": "code",
   "execution_count": null,
   "outputs": [],
   "source": [],
   "metadata": {
    "collapsed": false,
    "pycharm": {
     "name": "#%%\n"
    }
   }
  },
  {
   "cell_type": "code",
   "execution_count": null,
   "outputs": [],
   "source": [],
   "metadata": {
    "collapsed": false,
    "pycharm": {
     "name": "#%%\n"
    }
   }
  },
  {
   "cell_type": "code",
   "execution_count": null,
   "outputs": [],
   "source": [],
   "metadata": {
    "collapsed": false,
    "pycharm": {
     "name": "#%%\n"
    }
   }
  }
 ],
 "metadata": {
  "kernelspec": {
   "display_name": "Python 3",
   "language": "python",
   "name": "python3"
  },
  "language_info": {
   "codemirror_mode": {
    "name": "ipython",
    "version": 2
   },
   "file_extension": ".py",
   "mimetype": "text/x-python",
   "name": "python",
   "nbconvert_exporter": "python",
   "pygments_lexer": "ipython2",
   "version": "2.7.6"
  }
 },
 "nbformat": 4,
 "nbformat_minor": 0
}