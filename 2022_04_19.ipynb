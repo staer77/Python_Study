{
 "cells": [
  {
   "cell_type": "code",
   "execution_count": null,
   "metadata": {
    "collapsed": true,
    "pycharm": {
     "name": "#%%\n"
    }
   },
   "outputs": [],
   "source": [
    "if price > 20000:\n",
    "    shipping_cost = 0\n",
    "else :\n",
    "    shipping_cost = 3000"
   ]
  },
  {
   "cell_type": "code",
   "execution_count": 4,
   "outputs": [
    {
     "name": "stdout",
     "output_type": "stream",
     "text": [
      "배송비는 얼마입니다 3000 이만큼 내세요\n"
     ]
    }
   ],
   "source": [
    "price = int(input(\"상품의 가격이 얼마입니까: \"))\n",
    "\n",
    "if price > 30000:\n",
    "    shipping_cost = 0\n",
    "else :\n",
    "    shipping_cost = 3000\n",
    "    print(\"배송비는 얼마입니다\",shipping_cost, \"이만큼 내세요\",)"
   ],
   "metadata": {
    "collapsed": false,
    "pycharm": {
     "name": "#%%\n"
    }
   }
  },
  {
   "cell_type": "code",
   "execution_count": null,
   "outputs": [],
   "source": [
    "# if x == y (조건식에서는 참 혹은 거짓으로 나오는 식만 취급하니다)\n",
    "# if x != y ( x와 y가 다릅니까)\n",
    "# if x > y\n",
    "# if x < y\n",
    "# if X >= y\n",
    "# if x <= y"
   ],
   "metadata": {
    "collapsed": false,
    "pycharm": {
     "name": "#%%\n"
    }
   }
  },
  {
   "cell_type": "code",
   "execution_count": null,
   "outputs": [],
   "source": [
    "# x = y\n",
    "# x =/ y\n",
    "# x > y\n",
    "# x < y\n",
    "# x >_ y\n",
    "# x <_ y\n"
   ],
   "metadata": {
    "collapsed": false,
    "pycharm": {
     "name": "#%%\n"
    }
   }
  },
  {
   "cell_type": "code",
   "execution_count": null,
   "outputs": [],
   "source": [
    "s1 = 'ASD'\n",
    "s2 = 'ASD'\n",
    "\n",
    "if s1 == s2:\n",
    "    print('같습니다')\n",
    "else:\n",
    "    print('아닙니다 틀렸습니다~')"
   ],
   "metadata": {
    "collapsed": false,
    "pycharm": {
     "name": "#%%\n"
    }
   }
  },
  {
   "cell_type": "code",
   "execution_count": 5,
   "outputs": [
    {
     "name": "stdout",
     "output_type": "stream",
     "text": [
      "뒤에 있습니다\n"
     ]
    }
   ],
   "source": [
    "s1 = 'ABC'\n",
    "s2 = 'BCD'\n",
    "\n",
    "if s1 < s2:\n",
    "    print('뒤에 있습니다')\n",
    "else:\n",
    "    print('이게 더 앞에 있습니다')"
   ],
   "metadata": {
    "collapsed": false,
    "pycharm": {
     "name": "#%%\n"
    }
   }
  },
  {
   "cell_type": "code",
   "execution_count": 6,
   "outputs": [
    {
     "name": "stdout",
     "output_type": "stream",
     "text": [
      "True\n"
     ]
    }
   ],
   "source": [
    "import random\n",
    "\n",
    "x = random.randint(1,100)\n",
    "y = random.randint(1,100)\n",
    "\n",
    "answer = int(input(f'{x}+{y}='))\n",
    "\n",
    "flag = (answer == (x+y))\n",
    "print(flag)"
   ],
   "metadata": {
    "collapsed": false,
    "pycharm": {
     "name": "#%%\n"
    }
   }
  },
  {
   "cell_type": "code",
   "execution_count": null,
   "outputs": [],
   "source": [
    "max_value = (x if x>y else y)\n",
    "\n",
    "shipping_cost = (0 if price >= 30000 else 3000)"
   ],
   "metadata": {
    "collapsed": false,
    "pycharm": {
     "name": "#%%\n"
    }
   }
  },
  {
   "cell_type": "code",
   "execution_count": 22,
   "outputs": [
    {
     "name": "stdout",
     "output_type": "stream",
     "text": [
      "큰 수 = 2 작은 수 = 1\n"
     ]
    }
   ],
   "source": [
    "# x y 입력받아서 어떤게 큰수인지 어떤게 작은수 인지 비교\n",
    "x = int(input(\"첫 수를 입력하세여: \"))\n",
    "y = int(input(\"두번째 수를 입력하세여: \"))\n",
    "\n",
    "max_value = (x if x > y else y)\n",
    "min_value = (y if x > y else x)\n",
    "print(\"큰 수 =\", max_value, '작은 수 =', min_value)\n"
   ],
   "metadata": {
    "collapsed": false,
    "pycharm": {
     "name": "#%%\n"
    }
   }
  },
  {
   "cell_type": "code",
   "execution_count": 24,
   "outputs": [
    {
     "name": "stdout",
     "output_type": "stream",
     "text": [
      "홀수:  3\n"
     ]
    }
   ],
   "source": [
    "# 정수 입력 받아서 짝수인지 홀수인지 출력\n",
    "num = int(input(\"수를 입력하세여\"))\n",
    "\n",
    "if num % 2 == 0:\n",
    "    print('짝수: ', num)\n",
    "else:\n",
    "    print('홀수: ', num)"
   ],
   "metadata": {
    "collapsed": false,
    "pycharm": {
     "name": "#%%\n"
    }
   }
  },
  {
   "cell_type": "code",
   "execution_count": null,
   "outputs": [],
   "source": [
    "if score >= 60:\n",
    "    print(\"F\")\n",
    "elif score >= 70: ///또 다른 조건식"
   ],
   "metadata": {
    "collapsed": false,
    "pycharm": {
     "name": "#%%\n"
    }
   }
  },
  {
   "cell_type": "code",
   "execution_count": 41,
   "outputs": [
    {
     "name": "stdout",
     "output_type": "stream",
     "text": [
      "E\n"
     ]
    }
   ],
   "source": [
    "score = int(input(\"학점을 입력하세요\"))\n",
    "\n",
    "if score >= 90:\n",
    "    print(\"A\")\n",
    "elif score >= 80:\n",
    "    print(\"B\")\n",
    "elif score >= 70:\n",
    "    print(\"C\")\n",
    "elif score >= 60:\n",
    "    print(\"D\")\n",
    "elif score >= 50:\n",
    "    print(\"E\")\n",
    "else :\n",
    "    print(\"F\")"
   ],
   "metadata": {
    "collapsed": false,
    "pycharm": {
     "name": "#%%\n"
    }
   }
  },
  {
   "cell_type": "code",
   "execution_count": 42,
   "outputs": [
    {
     "name": "stdout",
     "output_type": "stream",
     "text": [
      "환영합니다\n",
      "환영합니다\n",
      "환영합니다\n"
     ]
    }
   ],
   "source": [
    "# 방문을 환영합니다~~~*100\n",
    "for i in range(3):\n",
    "    print(\"환영합니다\")"
   ],
   "metadata": {
    "collapsed": false,
    "pycharm": {
     "name": "#%%\n"
    }
   }
  },
  {
   "cell_type": "code",
   "execution_count": 45,
   "outputs": [
    {
     "name": "stdout",
     "output_type": "stream",
     "text": [
      "방문을 환엽하니다\n",
      "방문을 환엽하니다\n",
      "방문을 환엽하니다\n"
     ]
    }
   ],
   "source": [
    "# for 변수 in 리스트 :\n",
    "            # 출력 할 것들\n",
    "for i in (1,2,3) :  #range(종료값)\n",
    "    print(\"방문을 환엽하니다\")"
   ],
   "metadata": {
    "collapsed": false,
    "pycharm": {
     "name": "#%%\n"
    }
   }
  },
  {
   "cell_type": "code",
   "execution_count": null,
   "outputs": [],
   "source": [
    "'''\n",
    "중복 for 문은 무엇이냐\n",
    "for ~~~~~~~\n",
    "    for ~~~~~~~\n",
    "        for ~~~~~~\n",
    "    실행 방향은 안쪽부터 나간다\n",
    "\n",
    "'''"
   ],
   "metadata": {
    "collapsed": false,
    "pycharm": {
     "name": "#%%\n"
    }
   }
  },
  {
   "cell_type": "code",
   "execution_count": null,
   "outputs": [],
   "source": [
    "'''\n",
    "while 조건식:\n",
    "   출력하고 싶은 문장!\n",
    "   ~~~~\n",
    "\n",
    "'''"
   ],
   "metadata": {
    "collapsed": false,
    "pycharm": {
     "name": "#%%\n"
    }
   }
  },
  {
   "cell_type": "code",
   "execution_count": null,
   "outputs": [],
   "source": [
    "while money < 30000 :\n",
    "    money = money+money+10000\n",
    "    #10000\n",
    "    #20000\n",
    "    #30000\n",
    "    #40000"
   ],
   "metadata": {
    "collapsed": false,
    "pycharm": {
     "name": "#%%\n"
    }
   }
  },
  {
   "cell_type": "code",
   "execution_count": 54,
   "outputs": [
    {
     "ename": "SyntaxError",
     "evalue": "invalid syntax (Temp/ipykernel_12364/439475721.py, line 8)",
     "output_type": "error",
     "traceback": [
      "\u001B[1;36m  File \u001B[1;32m\"C:\\Users\\USER\\AppData\\Local\\Temp/ipykernel_12364/439475721.py\"\u001B[1;36m, line \u001B[1;32m8\u001B[0m\n\u001B[1;33m    if len(list_S) == 1\u001B[0m\n\u001B[1;37m                       ^\u001B[0m\n\u001B[1;31mSyntaxError\u001B[0m\u001B[1;31m:\u001B[0m invalid syntax\n"
     ]
    }
   ],
   "source": [
    "#백준 2480, 2753, 9498"
   ],
   "metadata": {
    "collapsed": false,
    "pycharm": {
     "name": "#%%\n"
    }
   }
  },
  {
   "cell_type": "code",
   "execution_count": null,
   "outputs": [],
   "source": [],
   "metadata": {
    "collapsed": false,
    "pycharm": {
     "name": "#%%\n"
    }
   }
  },
  {
   "cell_type": "code",
   "execution_count": null,
   "outputs": [],
   "source": [],
   "metadata": {
    "collapsed": false,
    "pycharm": {
     "name": "#%%\n"
    }
   }
  },
  {
   "cell_type": "code",
   "execution_count": null,
   "outputs": [],
   "source": [],
   "metadata": {
    "collapsed": false,
    "pycharm": {
     "name": "#%%\n"
    }
   }
  },
  {
   "cell_type": "code",
   "execution_count": null,
   "outputs": [],
   "source": [],
   "metadata": {
    "collapsed": false,
    "pycharm": {
     "name": "#%%\n"
    }
   }
  },
  {
   "cell_type": "code",
   "execution_count": null,
   "outputs": [],
   "source": [],
   "metadata": {
    "collapsed": false,
    "pycharm": {
     "name": "#%%\n"
    }
   }
  },
  {
   "cell_type": "code",
   "execution_count": null,
   "outputs": [],
   "source": [],
   "metadata": {
    "collapsed": false,
    "pycharm": {
     "name": "#%%\n"
    }
   }
  },
  {
   "cell_type": "code",
   "execution_count": null,
   "outputs": [],
   "source": [],
   "metadata": {
    "collapsed": false,
    "pycharm": {
     "name": "#%%\n"
    }
   }
  },
  {
   "cell_type": "code",
   "execution_count": null,
   "outputs": [],
   "source": [],
   "metadata": {
    "collapsed": false,
    "pycharm": {
     "name": "#%%\n"
    }
   }
  }
 ],
 "metadata": {
  "kernelspec": {
   "display_name": "Python 3",
   "language": "python",
   "name": "python3"
  },
  "language_info": {
   "codemirror_mode": {
    "name": "ipython",
    "version": 2
   },
   "file_extension": ".py",
   "mimetype": "text/x-python",
   "name": "python",
   "nbconvert_exporter": "python",
   "pygments_lexer": "ipython2",
   "version": "2.7.6"
  }
 },
 "nbformat": 4,
 "nbformat_minor": 0
}