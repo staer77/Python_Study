{
 "cells": [
  {
   "cell_type": "code",
   "execution_count": null,
   "outputs": [],
   "source": [
    "# set\n",
    "# 어떤 요소? 원소? 의 모임 >> 집합을 표현하는 방식에는 여러가지가 있다\n",
    "# 벤다이어그램 (  (  )  )  )"
   ],
   "metadata": {
    "collapsed": false,
    "pycharm": {
     "name": "#%%\n"
    }
   }
  },
  {
   "cell_type": "code",
   "execution_count": null,
   "outputs": [],
   "source": [
    "# {} key와 매칭되는 value에 대한 값을 얻어오고 싶다\n",
    "# 값을 조합하기 위해서 사용이 된다\n",
    "# 파이썬에서 numpy 수학적 개념을 코드화 => 코드로 수학을 치기 시작한다 사용됨"
   ],
   "metadata": {
    "collapsed": false,
    "pycharm": {
     "name": "#%%\n"
    }
   }
  },
  {
   "cell_type": "code",
   "execution_count": 4,
   "outputs": [
    {
     "name": "stdout",
     "output_type": "stream",
     "text": [
      "{1, 2, 3, 23, 12}\n"
     ]
    }
   ],
   "source": [
    "s1 = {1,2,3,4}\n",
    "# s1 이라는 집합을 선언합니다.\n",
    "s2 = {}\n",
    "type(s2)\n",
    "str1 = '111222333344445559999'\n",
    "set(str1)\n",
    "s1 = {1,1,1,1,1,1,12,2,2,2,2,2,23,3,3,3,3,3}\n",
    "print(s1)\n",
    "# set 자료형은 중복을 허용하지 않는다."
   ],
   "metadata": {
    "collapsed": false,
    "pycharm": {
     "name": "#%%\n"
    }
   }
  },
  {
   "cell_type": "code",
   "execution_count": null,
   "outputs": [],
   "source": [
    "a = {1,2,3,4}\n",
    "b = {3,4,5,6}\n",
    "# a.add(5) # 요소 추가\n",
    "# a.remove(5) # 요소 접근해서 있으면 삭제\n",
    "# a.pop() # 임의의 값을 삭제\n",
    "# a.update(b) # 합침\n",
    "# a.union(b) #합집합\n",
    "# a.intersection(b) # 교집합 (a & b)\n",
    "# print(a-b) 이렇게 차집합으로 가능하다\n",
    "# print(a^b) 대칭차집합(합집합 - 교집합) 연산\n",
    "# print(a.issubset(b)) 부분집합\n",
    "\n",
    "print(a)"
   ],
   "metadata": {
    "collapsed": false,
    "pycharm": {
     "name": "#%%\n"
    }
   }
  },
  {
   "cell_type": "code",
   "execution_count": null,
   "outputs": [],
   "source": [
    "for el in {1,2,3,4}:\n",
    "    print(el)"
   ],
   "metadata": {
    "collapsed": false,
    "pycharm": {
     "name": "#%%\n"
    }
   }
  },
  {
   "cell_type": "code",
   "execution_count": null,
   "outputs": [],
   "source": [
    "1 in {1,2,3}"
   ],
   "metadata": {
    "collapsed": false,
    "pycharm": {
     "name": "#%%\n"
    }
   }
  },
  {
   "cell_type": "code",
   "execution_count": 5,
   "outputs": [
    {
     "data": {
      "text/plain": "6"
     },
     "execution_count": 5,
     "metadata": {},
     "output_type": "execute_result"
    }
   ],
   "source": [
    "len({1,2,3,4,5,5,12,12,12})"
   ],
   "metadata": {
    "collapsed": false,
    "pycharm": {
     "name": "#%%\n"
    }
   }
  },
  {
   "cell_type": "code",
   "execution_count": null,
   "outputs": [],
   "source": [
    "# 입력하라고 한 값에 잘못된 값을 입력하면 에러"
   ],
   "metadata": {
    "collapsed": false,
    "pycharm": {
     "name": "#%%\n"
    }
   }
  },
  {
   "cell_type": "code",
   "execution_count": 6,
   "outputs": [
    {
     "name": "stdout",
     "output_type": "stream",
     "text": [
      "정수를 입력받아서 3을 곱한 값을 출력하는 계산기를 만들자\n",
      "60\n"
     ]
    }
   ],
   "source": [
    "print(\"정수를 입력받아서 3을 곱한 값을 출력하는 계산기를 만들자\") # 예외 처리\n",
    "input_num = input(\"정수를 입력하세요\")\n",
    "if not input_num.isnumeric():\n",
    "    print(\"정수만 입력하세요. 입력한 값:{}\".format(input_num))\n",
    "else:\n",
    "    input_num = int(input_num)\n",
    "    print(input_num * 3)"
   ],
   "metadata": {
    "collapsed": false,
    "pycharm": {
     "name": "#%%\n"
    }
   }
  },
  {
   "cell_type": "code",
   "execution_count": 7,
   "outputs": [
    {
     "name": "stdout",
     "output_type": "stream",
     "text": [
      "5를 곱한 값을 출력하는 계산기\n",
      "150\n"
     ]
    }
   ],
   "source": [
    "print(\"5를 곱한 값을 출력하는 계산기\") #조건문\n",
    "num1 = input(\"정수를 입력하세요\")\n",
    "if not num1.isnumeric():\n",
    "    print(\"입력하세요. 입력한 값:[]\".format(num1))\n",
    "else:\n",
    "    num1 = int(num1)\n",
    "    print(num1 * 5)"
   ],
   "metadata": {
    "collapsed": false,
    "pycharm": {
     "name": "#%%\n"
    }
   }
  },
  {
   "cell_type": "code",
   "execution_count": 8,
   "outputs": [
    {
     "name": "stdout",
     "output_type": "stream",
     "text": [
      "5를 곱한 값을 출력하는 계산기\n"
     ]
    },
    {
     "ename": "AssertionError",
     "evalue": "정수만 입력하세요. 입력한 값: 동탄사우나수건도둑엄준식",
     "output_type": "error",
     "traceback": [
      "\u001B[1;31m---------------------------------------------------------------------------\u001B[0m",
      "\u001B[1;31mAssertionError\u001B[0m                            Traceback (most recent call last)",
      "\u001B[1;32m~\\AppData\\Local\\Temp/ipykernel_8964/3243358178.py\u001B[0m in \u001B[0;36m<module>\u001B[1;34m\u001B[0m\n\u001B[0;32m      1\u001B[0m \u001B[0mprint\u001B[0m\u001B[1;33m(\u001B[0m\u001B[1;34m\"5를 곱한 값을 출력하는 계산기\"\u001B[0m\u001B[1;33m)\u001B[0m\u001B[1;33m\u001B[0m\u001B[1;33m\u001B[0m\u001B[0m\n\u001B[0;32m      2\u001B[0m \u001B[0mnum1\u001B[0m \u001B[1;33m=\u001B[0m \u001B[0minput\u001B[0m\u001B[1;33m(\u001B[0m\u001B[1;34m\"정수를 입력하세요\"\u001B[0m\u001B[1;33m)\u001B[0m\u001B[1;33m\u001B[0m\u001B[1;33m\u001B[0m\u001B[0m\n\u001B[1;32m----> 3\u001B[1;33m \u001B[1;32massert\u001B[0m \u001B[0mnum1\u001B[0m\u001B[1;33m.\u001B[0m\u001B[0misnumeric\u001B[0m\u001B[1;33m(\u001B[0m\u001B[1;33m)\u001B[0m\u001B[1;33m,\u001B[0m \u001B[1;34m\"정수만 입력하세요. 입력한 값: {}\"\u001B[0m\u001B[1;33m.\u001B[0m\u001B[0mformat\u001B[0m\u001B[1;33m(\u001B[0m\u001B[0mnum1\u001B[0m\u001B[1;33m)\u001B[0m\u001B[1;33m\u001B[0m\u001B[1;33m\u001B[0m\u001B[0m\n\u001B[0m\u001B[0;32m      4\u001B[0m \u001B[0mnumber\u001B[0m \u001B[1;33m=\u001B[0m \u001B[0mint\u001B[0m\u001B[1;33m(\u001B[0m\u001B[0mnum1\u001B[0m\u001B[1;33m)\u001B[0m\u001B[1;33m\u001B[0m\u001B[1;33m\u001B[0m\u001B[0m\n\u001B[0;32m      5\u001B[0m \u001B[0mprint\u001B[0m\u001B[1;33m(\u001B[0m\u001B[0mnumber\u001B[0m \u001B[1;33m*\u001B[0m \u001B[1;36m3\u001B[0m\u001B[1;33m)\u001B[0m\u001B[1;33m\u001B[0m\u001B[1;33m\u001B[0m\u001B[0m\n",
      "\u001B[1;31mAssertionError\u001B[0m: 정수만 입력하세요. 입력한 값: 동탄사우나수건도둑엄준식"
     ]
    }
   ],
   "source": [
    "print(\"3를 곱한 값을 출력하는 계산기\") # 에러문자\n",
    "num1 = input(\"정수를 입력하세요\")\n",
    "assert num1.isnumeric(), \"정수만 입력하세요. 입력한 값: {}\".format(num1)\n",
    "number = int(num1)\n",
    "print(number * 3)"
   ],
   "metadata": {
    "collapsed": false,
    "pycharm": {
     "name": "#%%\n"
    }
   }
  },
  {
   "cell_type": "code",
   "execution_count": 11,
   "outputs": [
    {
     "name": "stdout",
     "output_type": "stream",
     "text": [
      "마이너스 값을 출력하는 계산기\n",
      "-2\n"
     ]
    }
   ],
   "source": [
    "print(\"마이너스 값을 출력하는 계산기\")\n",
    "num1 = input(\"정수를 입력하세요\")\n",
    "assert num1.isnumeric(), \"정수만 입력하세요. 입력한 값: {}\".format(num1)\n",
    "number = int(num1)\n",
    "print(-number)"
   ],
   "metadata": {
    "collapsed": false,
    "pycharm": {
     "name": "#%%\n"
    }
   }
  },
  {
   "cell_type": "code",
   "execution_count": null,
   "outputs": [],
   "source": [
    "# try: # except:"
   ],
   "metadata": {
    "collapsed": false,
    "pycharm": {
     "name": "#%%\n"
    }
   }
  },
  {
   "cell_type": "code",
   "execution_count": 12,
   "outputs": [
    {
     "name": "stdout",
     "output_type": "stream",
     "text": [
      "동아리비 100만원을 입력한 정수 만큼의 인원으로 나눠주세요.\n",
      "한사람당 10.0만원을 가집니다\n"
     ]
    }
   ],
   "source": [
    "try:\n",
    "    print(\"동아리비 100만원을 입력한 정수 만큼의 인원으로 나눠주세요.\")\n",
    "    Dong_human = int(input(\"나눌 인원을 입력해주세요.: \"))\n",
    "    print(\"한사람당 {}만원을 가집니다\".format(100/Dong_human))\n",
    "except(ValueError, ZeroDivisionError):\n",
    "    print(\"왜 또 동탄사무나수건도둑엄준식을 입력하세요? 제정신인가요?\")"
   ],
   "metadata": {
    "collapsed": false,
    "pycharm": {
     "name": "#%%\n"
    }
   }
  },
  {
   "cell_type": "code",
   "execution_count": 15,
   "outputs": [
    {
     "name": "stdout",
     "output_type": "stream",
     "text": [
      "[1, 2, 3, 4, 5, 6, 7, 8, 9, 10]\n"
     ]
    }
   ],
   "source": [
    "number_10 = []\n",
    "for n in range(1,10+1):\n",
    "    number_10.append(n)\n",
    "print(number_10)\n"
   ],
   "metadata": {
    "collapsed": false,
    "pycharm": {
     "name": "#%%\n"
    }
   }
  },
  {
   "cell_type": "code",
   "execution_count": 14,
   "outputs": [
    {
     "data": {
      "text/plain": "[0, 1, 2, 3, 4, 5, 6, 7, 8, 9, 10]"
     },
     "execution_count": 14,
     "metadata": {},
     "output_type": "execute_result"
    }
   ],
   "source": [
    "[x for x in range(10+1)]\n",
    "[2*x for x in range(1,10+1)]\n",
    "[x for x in range(1,10+1) if x % 2 == 0]"
   ],
   "metadata": {
    "collapsed": false,
    "pycharm": {
     "name": "#%%\n"
    }
   }
  },
  {
   "cell_type": "code",
   "execution_count": 16,
   "outputs": [
    {
     "data": {
      "text/plain": "[('부대찌개', '콜라 한캔'),\n ('부대찌개', '아이스크림'),\n ('부대찌개', '사과주스'),\n ('부대찌개', '커피'),\n ('치킨', '콜라 한캔'),\n ('치킨', '아이스크림'),\n ('치킨', '사과주스'),\n ('치킨', '커피'),\n ('라면', '콜라 한캔'),\n ('라면', '아이스크림'),\n ('라면', '사과주스'),\n ('라면', '커피')]"
     },
     "execution_count": 16,
     "metadata": {},
     "output_type": "execute_result"
    }
   ],
   "source": [
    "[ (x,y)for x in ['부대찌개', '치킨', '라면']for y in ['콜라 한캔', '아이스크림', '사과주스', '커피']]"
   ],
   "metadata": {
    "collapsed": false,
    "pycharm": {
     "name": "#%%\n"
    }
   }
  },
  {
   "cell_type": "code",
   "execution_count": 17,
   "outputs": [
    {
     "name": "stdout",
     "output_type": "stream",
     "text": [
      "부대ㅉ:개 콜라 배달\n",
      "부대ㅉ:개 콜라 포장\n",
      "부대ㅉ:개 콜라 매장\n",
      "부대ㅉ:개 아이스크림 배달\n",
      "부대ㅉ:개 아이스크림 포장\n",
      "부대ㅉ:개 아이스크림 매장\n",
      "부대ㅉ:개 사과주스 배달\n",
      "부대ㅉ:개 사과주스 포장\n",
      "부대ㅉ:개 사과주스 매장\n",
      "부대ㅉ:개 커피 배달\n",
      "부대ㅉ:개 커피 포장\n",
      "부대ㅉ:개 커피 매장\n",
      "치킨 콜라 배달\n",
      "치킨 콜라 포장\n",
      "치킨 콜라 매장\n",
      "치킨 아이스크림 배달\n",
      "치킨 아이스크림 포장\n",
      "치킨 아이스크림 매장\n",
      "치킨 사과주스 배달\n",
      "치킨 사과주스 포장\n",
      "치킨 사과주스 매장\n",
      "치킨 커피 배달\n",
      "치킨 커피 포장\n",
      "치킨 커피 매장\n",
      "라면 콜라 배달\n",
      "라면 콜라 포장\n",
      "라면 콜라 매장\n",
      "라면 아이스크림 배달\n",
      "라면 아이스크림 포장\n",
      "라면 아이스크림 매장\n",
      "라면 사과주스 배달\n",
      "라면 사과주스 포장\n",
      "라면 사과주스 매장\n",
      "라면 커피 배달\n",
      "라면 커피 포장\n",
      "라면 커피 매장\n"
     ]
    }
   ],
   "source": [
    "for x in ['부대ㅉ:개','치킨','라면']:\n",
    "    for y in ['콜라', '아이스크림', '사과주스', '커피']:\n",
    "        for z in ['배달', '포장', '매장']:\n",
    "            print(x,y,z)"
   ],
   "metadata": {
    "collapsed": false,
    "pycharm": {
     "name": "#%%\n"
    }
   }
  },
  {
   "cell_type": "code",
   "execution_count": 18,
   "outputs": [
    {
     "data": {
      "text/plain": "[0, 2, 4]"
     },
     "execution_count": 18,
     "metadata": {},
     "output_type": "execute_result"
    }
   ],
   "source": [
    "[x for x in range(10) if x < 5 if x % 2 == 0]"
   ],
   "metadata": {
    "collapsed": false,
    "pycharm": {
     "name": "#%%\n"
    }
   }
  },
  {
   "cell_type": "code",
   "execution_count": null,
   "outputs": [],
   "source": [],
   "metadata": {
    "collapsed": false,
    "pycharm": {
     "name": "#%%\n"
    }
   }
  },
  {
   "cell_type": "code",
   "execution_count": null,
   "outputs": [],
   "source": [],
   "metadata": {
    "collapsed": false,
    "pycharm": {
     "name": "#%%\n"
    }
   }
  },
  {
   "cell_type": "code",
   "execution_count": null,
   "outputs": [],
   "source": [],
   "metadata": {
    "collapsed": false,
    "pycharm": {
     "name": "#%%\n"
    }
   }
  },
  {
   "cell_type": "code",
   "execution_count": null,
   "outputs": [],
   "source": [],
   "metadata": {
    "collapsed": false,
    "pycharm": {
     "name": "#%%\n"
    }
   }
  },
  {
   "cell_type": "code",
   "execution_count": null,
   "outputs": [],
   "source": [],
   "metadata": {
    "collapsed": false,
    "pycharm": {
     "name": "#%%\n"
    }
   }
  },
  {
   "cell_type": "code",
   "execution_count": null,
   "outputs": [],
   "source": [],
   "metadata": {
    "collapsed": false,
    "pycharm": {
     "name": "#%%\n"
    }
   }
  }
 ],
 "metadata": {
  "kernelspec": {
   "display_name": "Python 3",
   "language": "python",
   "name": "python3"
  },
  "language_info": {
   "codemirror_mode": {
    "name": "ipython",
    "version": 2
   },
   "file_extension": ".py",
   "mimetype": "text/x-python",
   "name": "python",
   "nbconvert_exporter": "python",
   "pygments_lexer": "ipython2",
   "version": "2.7.6"
  }
 },
 "nbformat": 4,
 "nbformat_minor": 0
}